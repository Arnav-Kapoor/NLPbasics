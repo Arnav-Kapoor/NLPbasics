{
 "cells": [
  {
   "cell_type": "code",
   "execution_count": 1,
   "id": "885ca17a-9fee-49af-8f8d-f814243e5c51",
   "metadata": {},
   "outputs": [],
   "source": [
    "import pandas as pd\n",
    "import numpy as np\n",
    "import nltk"
   ]
  },
  {
   "cell_type": "code",
   "execution_count": 2,
   "id": "f2485b18-bc4b-4046-ac1b-1eca7274e51a",
   "metadata": {},
   "outputs": [],
   "source": [
    "from nltk import word_tokenize"
   ]
  },
  {
   "cell_type": "code",
   "execution_count": 3,
   "id": "1a741956-08f2-4a66-b469-865e452fa90e",
   "metadata": {},
   "outputs": [
    {
     "name": "stderr",
     "output_type": "stream",
     "text": [
      "[nltk_data] Downloading package punkt to\n",
      "[nltk_data]     C:\\Users\\dellb\\AppData\\Roaming\\nltk_data...\n",
      "[nltk_data]   Package punkt is already up-to-date!\n"
     ]
    },
    {
     "data": {
      "text/plain": [
       "True"
      ]
     },
     "execution_count": 3,
     "metadata": {},
     "output_type": "execute_result"
    }
   ],
   "source": [
    "nltk.download('punkt')"
   ]
  },
  {
   "cell_type": "code",
   "execution_count": 5,
   "id": "a2b45e10-7dbb-469c-8c6e-3c67aca915d0",
   "metadata": {},
   "outputs": [],
   "source": [
    "df=pd.read_csv('datasets/bbc_text_cls.csv')"
   ]
  },
  {
   "cell_type": "code",
   "execution_count": 6,
   "id": "f86b758d-7ee7-4089-9c7b-64b4e10ec584",
   "metadata": {},
   "outputs": [
    {
     "data": {
      "text/html": [
       "<div>\n",
       "<style scoped>\n",
       "    .dataframe tbody tr th:only-of-type {\n",
       "        vertical-align: middle;\n",
       "    }\n",
       "\n",
       "    .dataframe tbody tr th {\n",
       "        vertical-align: top;\n",
       "    }\n",
       "\n",
       "    .dataframe thead th {\n",
       "        text-align: right;\n",
       "    }\n",
       "</style>\n",
       "<table border=\"1\" class=\"dataframe\">\n",
       "  <thead>\n",
       "    <tr style=\"text-align: right;\">\n",
       "      <th></th>\n",
       "      <th>text</th>\n",
       "      <th>labels</th>\n",
       "    </tr>\n",
       "  </thead>\n",
       "  <tbody>\n",
       "    <tr>\n",
       "      <th>0</th>\n",
       "      <td>Ad sales boost Time Warner profit\\n\\nQuarterly...</td>\n",
       "      <td>business</td>\n",
       "    </tr>\n",
       "    <tr>\n",
       "      <th>1</th>\n",
       "      <td>Dollar gains on Greenspan speech\\n\\nThe dollar...</td>\n",
       "      <td>business</td>\n",
       "    </tr>\n",
       "    <tr>\n",
       "      <th>2</th>\n",
       "      <td>Yukos unit buyer faces loan claim\\n\\nThe owner...</td>\n",
       "      <td>business</td>\n",
       "    </tr>\n",
       "    <tr>\n",
       "      <th>3</th>\n",
       "      <td>High fuel prices hit BA's profits\\n\\nBritish A...</td>\n",
       "      <td>business</td>\n",
       "    </tr>\n",
       "    <tr>\n",
       "      <th>4</th>\n",
       "      <td>Pernod takeover talk lifts Domecq\\n\\nShares in...</td>\n",
       "      <td>business</td>\n",
       "    </tr>\n",
       "  </tbody>\n",
       "</table>\n",
       "</div>"
      ],
      "text/plain": [
       "                                                text    labels\n",
       "0  Ad sales boost Time Warner profit\\n\\nQuarterly...  business\n",
       "1  Dollar gains on Greenspan speech\\n\\nThe dollar...  business\n",
       "2  Yukos unit buyer faces loan claim\\n\\nThe owner...  business\n",
       "3  High fuel prices hit BA's profits\\n\\nBritish A...  business\n",
       "4  Pernod takeover talk lifts Domecq\\n\\nShares in...  business"
      ]
     },
     "execution_count": 6,
     "metadata": {},
     "output_type": "execute_result"
    }
   ],
   "source": [
    "df.head()"
   ]
  },
  {
   "cell_type": "code",
   "execution_count": 7,
   "id": "6730429a-fddf-49ae-aa5d-55b065f82e63",
   "metadata": {},
   "outputs": [],
   "source": [
    "## word to index\n",
    "idx=0\n",
    "word2idx={}\n",
    "tokenized_docs=[]\n",
    "for doc in df['text']:\n",
    "    words=word_tokenize(doc.lower())\n",
    "    doc_as_int=[]\n",
    "    for word in words:\n",
    "        if word not in word2idx:\n",
    "            word2idx[word]=idx\n",
    "            idx+=1\n",
    "        \n",
    "        #save for later\n",
    "        doc_as_int.append(word2idx[word])\n",
    "    tokenized_docs.append(doc_as_int)"
   ]
  },
  {
   "cell_type": "code",
   "execution_count": 14,
   "id": "58961dbd-dbfb-4e3f-bd0f-0c18cd55ee18",
   "metadata": {},
   "outputs": [
    {
     "data": {
      "text/plain": [
       "[4586, 18792, 40, 104, 2054]"
      ]
     },
     "execution_count": 14,
     "metadata": {},
     "output_type": "execute_result"
    }
   ],
   "source": [
    "doc_as_int[:5]"
   ]
  },
  {
   "cell_type": "code",
   "execution_count": 18,
   "id": "934adef2-e7a3-4dd0-a6ce-b03c0697c16c",
   "metadata": {},
   "outputs": [
    {
     "data": {
      "text/plain": [
       "[4586, 18792, 40, 104, 2054]"
      ]
     },
     "execution_count": 18,
     "metadata": {},
     "output_type": "execute_result"
    }
   ],
   "source": [
    "tokenized_docs[len(tokenized_docs)-1][:5]"
   ]
  },
  {
   "cell_type": "code",
   "execution_count": 22,
   "id": "7088e33b-9bc8-4432-9ea4-60b08c1abdc0",
   "metadata": {},
   "outputs": [],
   "source": [
    "# word2idx"
   ]
  },
  {
   "cell_type": "code",
   "execution_count": 8,
   "id": "7cddb478-d1f7-4a36-9f3d-2d58e9853114",
   "metadata": {},
   "outputs": [],
   "source": [
    "##reverse mapping\n",
    "idx2word={v:k for k,v in word2idx.items()}"
   ]
  },
  {
   "cell_type": "code",
   "execution_count": 9,
   "id": "aabd5580-9c6e-4ae8-a6e6-8b975de1c674",
   "metadata": {},
   "outputs": [],
   "source": [
    "# number of documents\n",
    "N=len(df['text'])"
   ]
  },
  {
   "cell_type": "code",
   "execution_count": 10,
   "id": "042cc372-9e8b-43f5-9727-fc53c83b15fd",
   "metadata": {},
   "outputs": [],
   "source": [
    "#number if words\n",
    "V=len(word2idx)"
   ]
  },
  {
   "cell_type": "code",
   "execution_count": 72,
   "id": "c9ad6a9e-1f38-4045-9775-8210b3ba2b8e",
   "metadata": {},
   "outputs": [],
   "source": [
    "#term-frequency matrix\n",
    "#can also be done by count vectorizer\n",
    "tf=np.zeros((N,V))"
   ]
  },
  {
   "cell_type": "code",
   "execution_count": 73,
   "id": "be119910-a95f-4e76-99de-ab682931ecf1",
   "metadata": {},
   "outputs": [],
   "source": [
    "for i,doc_as_int in enumerate(tokenized_docs):\n",
    "    for j in doc_as_int:\n",
    "        tf[i,j]+=1"
   ]
  },
  {
   "cell_type": "code",
   "execution_count": 74,
   "id": "15226a6e-a83a-4e28-86f5-7cff7d334d33",
   "metadata": {},
   "outputs": [
    {
     "data": {
      "text/plain": [
       "array([[1., 4., 1., ..., 0., 0., 0.],\n",
       "       [0., 0., 1., ..., 0., 0., 0.],\n",
       "       [0., 0., 0., ..., 0., 0., 0.],\n",
       "       ...,\n",
       "       [0., 0., 0., ..., 0., 0., 0.],\n",
       "       [0., 0., 0., ..., 0., 0., 0.],\n",
       "       [0., 0., 0., ..., 1., 1., 1.]])"
      ]
     },
     "execution_count": 74,
     "metadata": {},
     "output_type": "execute_result"
    }
   ],
   "source": [
    "tf"
   ]
  },
  {
   "cell_type": "code",
   "execution_count": 75,
   "id": "34de327a-f41c-464c-9d7c-7031e97e598b",
   "metadata": {},
   "outputs": [],
   "source": [
    "#compute idf\n",
    "document_freq=np.sum(tf>0,axis=0)\n",
    "idf= np.log(N/document_freq)"
   ]
  },
  {
   "cell_type": "code",
   "execution_count": 76,
   "id": "f70c2434-8042-402e-a3ac-7f81564c16dd",
   "metadata": {},
   "outputs": [
    {
     "data": {
      "text/plain": [
       "array([5.22260554, 2.3893922 , 2.86332511, ..., 7.70751219, 7.70751219,\n",
       "       7.70751219])"
      ]
     },
     "execution_count": 76,
     "metadata": {},
     "output_type": "execute_result"
    }
   ],
   "source": [
    "idf"
   ]
  },
  {
   "cell_type": "code",
   "execution_count": 77,
   "id": "e1a54279-7082-45de-a242-dea1c5544139",
   "metadata": {},
   "outputs": [],
   "source": [
    "# np.log(N/document_freq[0]),idf[0]"
   ]
  },
  {
   "cell_type": "code",
   "execution_count": 78,
   "id": "dc6956e3-84d9-4f0a-871e-d7c707bfce8f",
   "metadata": {},
   "outputs": [],
   "source": [
    "#compare tf-idf\n",
    "tf_idf=tf*idf"
   ]
  },
  {
   "cell_type": "code",
   "execution_count": 79,
   "id": "fdc6b41d-2cef-4be2-8328-cf2a06d6be88",
   "metadata": {},
   "outputs": [],
   "source": [
    "# np.random.seed(123)"
   ]
  },
  {
   "cell_type": "code",
   "execution_count": 80,
   "id": "7e0f3c25-1832-4ffa-84fd-86c089a416d9",
   "metadata": {},
   "outputs": [
    {
     "name": "stdout",
     "output_type": "stream",
     "text": [
      "label:  business\n",
      "text:  Ad sales boost Time Warner profit\n",
      "TOp 5 terms: \n",
      "i\n",
      "everquest\n",
      "gaming\n",
      "online\n",
      "hours\n"
     ]
    }
   ],
   "source": [
    "#pick random document, show the top 5 terms (in terms of tfidf scores)\n",
    "# i=np.random.choice(N)\n",
    "row=df.iloc[0]\n",
    "print(\"label: \",row['labels'])\n",
    "print(\"text: \",row['text'].split(\"\\n\",1)[0])\n",
    "print(\"TOp 5 terms: \")\n",
    "\n",
    "scores=tf_idf[i]\n",
    "indices=(-scores).argsort()\n",
    "\n",
    "for j in indices[:5]:\n",
    "    print(idx2word[j])"
   ]
  },
  {
   "cell_type": "code",
   "execution_count": null,
   "id": "026ede85-2c99-4ebf-a770-996180b0d335",
   "metadata": {},
   "outputs": [],
   "source": []
  }
 ],
 "metadata": {
  "kernelspec": {
   "display_name": "Python 3 (ipykernel)",
   "language": "python",
   "name": "python3"
  },
  "language_info": {
   "codemirror_mode": {
    "name": "ipython",
    "version": 3
   },
   "file_extension": ".py",
   "mimetype": "text/x-python",
   "name": "python",
   "nbconvert_exporter": "python",
   "pygments_lexer": "ipython3",
   "version": "3.10.8"
  }
 },
 "nbformat": 4,
 "nbformat_minor": 5
}
