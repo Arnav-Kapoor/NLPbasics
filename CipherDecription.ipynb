{
 "cells": [
  {
   "cell_type": "code",
   "execution_count": 1,
   "id": "e1cfdce6-12e4-4b91-a6d2-d35383daa2cf",
   "metadata": {},
   "outputs": [],
   "source": [
    "import numpy as np\n",
    "import matplotlib.pyplot as plt\n",
    "import string\n",
    "import re\n",
    "import random\n",
    "import requests\n",
    "import os\n",
    "import textwrap"
   ]
  },
  {
   "cell_type": "code",
   "execution_count": 13,
   "id": "3e318c26-3010-43ea-8bd7-47d3045fb08e",
   "metadata": {},
   "outputs": [],
   "source": [
    "## create a substition cipher\n",
    "\n",
    "letters1=list(string.ascii_lowercase)\n",
    "letters2=list(string.ascii_lowercase)\n",
    "\n",
    "true_mapping={}\n",
    "random.shuffle(letters2)\n",
    "\n",
    "for k,v in zip(letters1,letters2):\n",
    "    true_mapping[k]=v"
   ]
  },
  {
   "cell_type": "code",
   "execution_count": 54,
   "id": "0975df55-2bca-4c9e-9a05-5c35e6e1e7ae",
   "metadata": {},
   "outputs": [],
   "source": [
    "##initiate markov matrix\n",
    "M=np.ones((26,26))\n",
    "\n",
    "#initiate state distribution\n",
    "pi=np.zeros(26)\n",
    "\n",
    "#update markov matrix\n",
    "def update_transition(ch1,ch2):\n",
    "    i=ord(ch1)-97\n",
    "    j=ord(ch2)-97\n",
    "    M[i,j]+=1\n",
    "    \n",
    "#update initial state variable\n",
    "def update_pi(ch1):\n",
    "    i=ord(ch1)-97\n",
    "    pi[i]+=1\n",
    "    \n",
    "#get log-probability\n",
    "def get_word_prob(word):\n",
    "    i=ord(word[0])-97\n",
    "    logp=np.log(pi[i])\n",
    "    \n",
    "    for ch in word[1:]:\n",
    "        j=ord(ch)-97\n",
    "        logp+=np.log(M[i,j])\n",
    "        i=j\n",
    "        \n",
    "    return logp\n",
    "\n",
    "#get probability of a sequence of words\n",
    "\n",
    "def get_sequence_prob(words):\n",
    "    if type(words)==str:\n",
    "        words=words.split()\n",
    "    \n",
    "    logp=0\n",
    "    for word in words:\n",
    "        logp+=get_word_prob(word)\n",
    "    \n",
    "    return logp"
   ]
  },
  {
   "cell_type": "code",
   "execution_count": 39,
   "id": "f9069c3e-9bd4-4ec9-a1df-699ca7a74285",
   "metadata": {},
   "outputs": [],
   "source": [
    "#download file\n",
    "\n",
    "if not os.path.exists(\"./datasets/moby_dick.txt\"):\n",
    "    r=requests.get(\"https://lazyprogrammer.me/course_files/moby_dick.txt\")\n",
    "    with open(\"datasets/moby_dick.txt\",'w',encoding=\"utf-8\") as f:\n",
    "        f.write(r.content.decode())"
   ]
  },
  {
   "cell_type": "code",
   "execution_count": 57,
   "id": "539fa1a7-83a8-4509-8297-37ded6f0bd2f",
   "metadata": {
    "scrolled": true,
    "tags": []
   },
   "outputs": [],
   "source": [
    "#for replacing non alpha characters\n",
    "regex=re.compile('[^a-zA-Z]')\n",
    "\n",
    "#load in words\n",
    "\n",
    "for line in open('datasets/moby_dick.txt','r',encoding=\"utf-8\"):\n",
    "    line=line.rstrip()\n",
    "    \n",
    "    if line:\n",
    "        line=regex.sub(' ',line)#replace all non-alpha characters with space\n",
    "        \n",
    "        #convert to lowercase and split into tokens\n",
    "        tokens=line.lower().split()\n",
    "        \n",
    "        for token in tokens:\n",
    "            #update the model\n",
    "            \n",
    "            #first word\n",
    "            ch0=token[0]\n",
    "            update_pi(ch0)\n",
    "            \n",
    "            #other letters\n",
    "            for ch1 in token[1:]:\n",
    "                update_transition(ch0,ch1)\n",
    "                ch0=ch1\n",
    "\n",
    "#normalize probability\n",
    "pi/=pi.sum()\n",
    "M/=M.sum(axis=1, keepdims=True)"
   ]
  },
  {
   "cell_type": "code",
   "execution_count": 59,
   "id": "8db35d8a-9e66-4941-a9da-d5940d22e3dc",
   "metadata": {},
   "outputs": [],
   "source": [
    "## encode a message\n",
    "\n",
    "original_message='''I then lounged down the street and found, as I expected, that there was a mews in a lane which runs down by one \n",
    "                    wall of the garden. I lent the ostlers a hand in rubbing down their horses, and received in exchange twopence, a glass of \n",
    "                    half-and-half, two fills of shag tobacco, and as much information as I could desire about Miss Adler, to say nothing of half \n",
    "                    a dozen other people in the neighbourhood in whom I was not in the least interested, but whose biographies I was compelled to \n",
    "                    listen to'''"
   ]
  },
  {
   "cell_type": "code",
   "execution_count": 60,
   "id": "413e9a2e-e38a-480e-a910-027698892d72",
   "metadata": {},
   "outputs": [],
   "source": [
    "def encode_message(msg):\n",
    "    msg=msg.lower()\n",
    "    \n",
    "    msg=regex.sub(' ',msg) # replace non-alpha characters\n",
    "    \n",
    "    coded_msg=[]\n",
    "    for ch in msg:\n",
    "        coded_ch=ch #could just be a space\n",
    "        \n",
    "        if ch in true_mapping:\n",
    "            coded_ch=true_mapping[ch]\n",
    "        coded_msg.append(coded_ch)\n",
    "    \n",
    "    return ''.join(coded_msg)\n",
    "\n",
    "encoded_message=encode_message(original_message)\n",
    "\n",
    "#function to decode a message\n",
    "\n",
    "def decode_message(msg,word_map):\n",
    "    decoded_msg=[]\n",
    "    for ch in msg:\n",
    "        decoded_ch=ch\n",
    "        if ch in word_map:\n",
    "            decoded_ch=word_map[ch]\n",
    "        decoded_msg.append(decoded_ch)\n",
    "    \n",
    "    return ''.join(decoded_msg)"
   ]
  },
  {
   "cell_type": "code",
   "execution_count": 61,
   "id": "6ac60e74-9551-4b47-a0ef-675e38b833ef",
   "metadata": {},
   "outputs": [],
   "source": [
    "### run evolutionary algorithm\n",
    "\n",
    "dna_pool=[]\n",
    "for i in range(20):\n",
    "    dna=list(string.ascii_lowercase)\n",
    "    random.shuffle(dna)\n",
    "    dna_pool.append(dna)"
   ]
  },
  {
   "cell_type": "code",
   "execution_count": 62,
   "id": "6aeb7140-7332-436c-8193-dcda8094cfd2",
   "metadata": {},
   "outputs": [],
   "source": [
    "def evolve_offspring(dna_pool,n_children):\n",
    "    #make n children per offspring\n",
    "    offspring=[]\n",
    "    \n",
    "    for dna in dna_pool:\n",
    "        for i in range(n_children):\n",
    "            copy=dna.copy()\n",
    "            j=np.random.randint(len(copy))\n",
    "            k=np.random.randint(len(copy))\n",
    "            \n",
    "            #switch\n",
    "            tmp=copy[j]\n",
    "            copy[j]=copy[k]\n",
    "            copy[k]=tmp\n",
    "            offspring.append(copy)\n",
    "            \n",
    "    return offspring+dna_pool"
   ]
  },
  {
   "cell_type": "code",
   "execution_count": 63,
   "id": "4bd7ae5b-2b77-46ff-ad9c-85632c3a22fd",
   "metadata": {
    "scrolled": true,
    "tags": []
   },
   "outputs": [
    {
     "name": "stdout",
     "output_type": "stream",
     "text": [
      "iter: 0 score: -2718.9619570714285 best so far: -2345.189037050503\n",
      "iter: 200 score: -1161.1357835646509 best so far: -983.0592540281185\n",
      "iter: 400 score: -1014.2388374327206 best so far: -929.8728464085292\n",
      "iter: 600 score: -1098.0718902392232 best so far: -929.5136856065989\n",
      "iter: 800 score: -1118.8855226327184 best so far: -929.5136856065989\n"
     ]
    }
   ],
   "source": [
    "num_iters=1000\n",
    "scores=np.zeros(num_iters)\n",
    "best_dna=None\n",
    "best_map=None\n",
    "best_score=float('-inf')\n",
    "\n",
    "for i in range(num_iters):\n",
    "    if i>0:\n",
    "        #get offspirng from the current dna pool\n",
    "        dna_pool=evolve_offspring(dna_pool,3)\n",
    "        \n",
    "    #calculate score for each dna\n",
    "    dna2score={}\n",
    "    for dna in dna_pool:\n",
    "        #populate map\n",
    "        current_map={}\n",
    "        for k,v in zip(letters1,dna):\n",
    "            current_map[k]=v\n",
    "            \n",
    "        decoded_message=decode_message(encoded_message,current_map)\n",
    "        score=get_sequence_prob(decoded_message)\n",
    "        \n",
    "        #store it \n",
    "        #needs to be a string to be dict key\n",
    "        dna2score[''.join(dna)]=score\n",
    "        \n",
    "        #record the best so far\n",
    "        if score>best_score:\n",
    "            best_score=score\n",
    "            best_dna=dna\n",
    "            best_map=current_map\n",
    "    \n",
    "    #average score for this generation\n",
    "    scores[i]=np.mean(list(dna2score.values()))\n",
    "    \n",
    "    #keep the best 5 score\n",
    "    #also turn them back into list of single chars\n",
    "    sorted_dna=sorted(dna2score.items(), key=lambda x:x[1], reverse=True)\n",
    "    dna_pool=[list(k) for k,v in sorted_dna[:5]]\n",
    "    \n",
    "    if i%200==0:\n",
    "        print(\"iter:\",i,\"score:\",scores[i],\"best so far:\",best_score)"
   ]
  },
  {
   "cell_type": "code",
   "execution_count": 67,
   "id": "7498cd38-7b6c-42c8-a20e-c8862b3963c1",
   "metadata": {},
   "outputs": [
    {
     "name": "stdout",
     "output_type": "stream",
     "text": [
      "LL of decoded message:  -929.5136856065989\n",
      "LL of true message:  -932.9508705551947\n",
      "true: j, pred: q \n",
      "true: k, pred: j \n",
      "true: q, pred: z \n",
      "true: z, pred: k \n"
     ]
    }
   ],
   "source": [
    "decoded_message=decode_message(encoded_message,best_map)\n",
    "\n",
    "print(\"LL of decoded message: \",get_sequence_prob(decoded_message))\n",
    "print(\"LL of true message: \",get_sequence_prob(regex.sub(' ',original_message.lower())))\n",
    "\n",
    "#which letters were wrong\n",
    "for true,v in true_mapping.items():\n",
    "    pred=best_map[v]\n",
    "    if true!=pred:\n",
    "        print(\"true: %s, pred: %s \"% (true,pred))"
   ]
  },
  {
   "cell_type": "code",
   "execution_count": 68,
   "id": "c532cc64-3a5c-48dd-9b1a-a64e5235a552",
   "metadata": {},
   "outputs": [
    {
     "name": "stdout",
     "output_type": "stream",
     "text": [
      "Decoded message: \n",
      " i then lounged down the street and found  as i expected  that there\n",
      "was a mews in a lane which runs down by one                      wall\n",
      "of the garden  i lent the ostlers a hand in rubbing down their horses\n",
      "and received in exchange twopence  a glass of\n",
      "half and half  two fills of shag tobacco  and as much information as i\n",
      "could desire about miss adler  to say nothing of half\n",
      "a doken other people in the neighbourhood in whom i was not in the\n",
      "least interested  but whose biographies i was compelled to\n",
      "listen to\n",
      "\n",
      "Original message: \n",
      " I then lounged down the street and found, as I expected, that there was a mews in a lane which runs down by one \n",
      "                    wall of the garden. I lent the ostlers a hand in rubbing down their horses, and received in exchange twopence, a glass of \n",
      "                    half-and-half, two fills of shag tobacco, and as much information as I could desire about Miss Adler, to say nothing of half \n",
      "                    a dozen other people in the neighbourhood in whom I was not in the least interested, but whose biographies I was compelled to \n",
      "                    listen to\n"
     ]
    }
   ],
   "source": [
    "#preint final decoded message\n",
    "print(\"Decoded message: \\n\",textwrap.fill(decoded_message))\n",
    "print(\"\\nOriginal message: \\n\",original_message)"
   ]
  },
  {
   "cell_type": "code",
   "execution_count": 69,
   "id": "4dfb2d72-c640-4540-a0b0-3ba8687db6c0",
   "metadata": {},
   "outputs": [
    {
     "data": {
      "image/png": "[encoded data removed]",
      "text/plain": [
       "<Figure size 640x480 with 1 Axes>"
      ]
     },
     "metadata": {},
     "output_type": "display_data"
    }
   ],
   "source": [
    "plt.plot(scores)\n",
    "plt.show()"
   ]
  },
  {
   "cell_type": "code",
   "execution_count": null,
   "id": "587b2962-ac5f-4fd9-800d-6b82a1597165",
   "metadata": {},
   "outputs": [],
   "source": []
  }
 ],
 "metadata": {
  "kernelspec": {
   "display_name": "Python 3 (ipykernel)",
   "language": "python",
   "name": "python3"
  },
  "language_info": {
   "codemirror_mode": {
    "name": "ipython",
    "version": 3
   },
   "file_extension": ".py",
   "mimetype": "text/x-python",
   "name": "python",
   "nbconvert_exporter": "python",
   "pygments_lexer": "ipython3",
   "version": "3.10.8"
  }
 },
 "nbformat": 4,
 "nbformat_minor": 5
}
