{
 "cells": [
  {
   "cell_type": "code",
   "execution_count": 1,
   "id": "206d9beb-8c6c-4e32-9e8f-59ded3478ad2",
   "metadata": {},
   "outputs": [],
   "source": [
    "# https://lazyprogrammer.me/course_files/nlp/GoogleNews-vectors-negative300.bin.gz"
   ]
  },
  {
   "cell_type": "code",
   "execution_count": 7,
   "id": "ade7892b-a942-46cd-91a3-d219c4b15c55",
   "metadata": {},
   "outputs": [],
   "source": [
    "# !pip install gensim"
   ]
  },
  {
   "cell_type": "code",
   "execution_count": 6,
   "id": "d660e2b7-eaca-4892-b21c-04aad432b675",
   "metadata": {},
   "outputs": [],
   "source": [
    "from gensim.models import KeyedVectors"
   ]
  },
  {
   "cell_type": "code",
   "execution_count": 9,
   "id": "41e13b65-047c-4dcf-a0cc-636e873c266d",
   "metadata": {},
   "outputs": [],
   "source": [
    "word_vectors=KeyedVectors.load_word2vec_format('datasets/GoogleNews-vectors-negative300.bin',\n",
    "                                              binary=True)"
   ]
  },
  {
   "cell_type": "code",
   "execution_count": 12,
   "id": "694072df-0ea3-4e98-9363-8bbd33ba6d0b",
   "metadata": {},
   "outputs": [],
   "source": [
    "def find_analogies(w1,w2,w3):\n",
    "    #w1-w2=?-w3\n",
    "    #eg- king-man=?-woman\n",
    "    #?=king+woman-man\n",
    "    r=word_vectors.most_similar(positive=[w1,w3],negative=[w2])\n",
    "    print(\"%s - %s = %s - %s\"%(w1,w2,r[0][0],w3))"
   ]
  },
  {
   "cell_type": "code",
   "execution_count": 13,
   "id": "c9b988e3-ff22-46af-a2bd-50aa9937e92a",
   "metadata": {},
   "outputs": [
    {
     "name": "stdout",
     "output_type": "stream",
     "text": [
      "king - man = queen - woman\n"
     ]
    }
   ],
   "source": [
    "find_analogies('king','man','woman')"
   ]
  },
  {
   "cell_type": "code",
   "execution_count": 14,
   "id": "068565f5-e7e4-479d-8592-1430a4718fa6",
   "metadata": {},
   "outputs": [
    {
     "name": "stdout",
     "output_type": "stream",
     "text": [
      "france - paris = england - london\n"
     ]
    }
   ],
   "source": [
    "find_analogies('france','paris','london')"
   ]
  },
  {
   "cell_type": "code",
   "execution_count": 15,
   "id": "fd75a18c-16b4-4b97-871c-d3c8192c4419",
   "metadata": {},
   "outputs": [
    {
     "name": "stdout",
     "output_type": "stream",
     "text": [
      "france - french = england - english\n"
     ]
    }
   ],
   "source": [
    "find_analogies('france','french','english')"
   ]
  },
  {
   "cell_type": "code",
   "execution_count": 16,
   "id": "a3805af3-a303-4975-8771-2d7c48b2b074",
   "metadata": {},
   "outputs": [
    {
     "name": "stdout",
     "output_type": "stream",
     "text": [
      "man - woman = uncle - aunt\n"
     ]
    }
   ],
   "source": [
    "find_analogies('man','woman','aunt')"
   ]
  },
  {
   "cell_type": "code",
   "execution_count": 17,
   "id": "e3ee998c-7a3f-400a-92b9-3ea5823b43d9",
   "metadata": {},
   "outputs": [
    {
     "name": "stdout",
     "output_type": "stream",
     "text": [
      "man - woman = son - wife\n"
     ]
    }
   ],
   "source": [
    "find_analogies('man','woman','wife')"
   ]
  },
  {
   "cell_type": "code",
   "execution_count": 18,
   "id": "35bf9e9f-6537-4b4b-b333-f4c020c91077",
   "metadata": {},
   "outputs": [],
   "source": [
    "def nearest_neighbors(w):\n",
    "    r=word_vectors.most_similar(positive=[w])\n",
    "    print(\"neighbors of: %s\"%w)\n",
    "    for word,score in r:\n",
    "        print(\"\\t%s\"%word)"
   ]
  },
  {
   "cell_type": "code",
   "execution_count": 19,
   "id": "0844f7d6-448d-4788-9d58-770642eb958c",
   "metadata": {},
   "outputs": [
    {
     "name": "stdout",
     "output_type": "stream",
     "text": [
      "neighbors of: king\n",
      "\tkings\n",
      "\tqueen\n",
      "\tmonarch\n",
      "\tcrown_prince\n",
      "\tprince\n",
      "\tsultan\n",
      "\truler\n",
      "\tprinces\n",
      "\tPrince_Paras\n",
      "\tthrone\n"
     ]
    }
   ],
   "source": [
    "nearest_neighbors('king')"
   ]
  },
  {
   "cell_type": "code",
   "execution_count": 20,
   "id": "572ca721-9fc5-4589-82fd-86c216f431fd",
   "metadata": {},
   "outputs": [
    {
     "name": "stdout",
     "output_type": "stream",
     "text": [
      "neighbors of: france\n",
      "\tspain\n",
      "\tfrench\n",
      "\tgermany\n",
      "\teurope\n",
      "\titaly\n",
      "\tengland\n",
      "\teuropean\n",
      "\tbelgium\n",
      "\tusa\n",
      "\tserbia\n"
     ]
    }
   ],
   "source": [
    "nearest_neighbors('france')"
   ]
  },
  {
   "cell_type": "code",
   "execution_count": 21,
   "id": "5e2305cd-53c0-491d-97a1-01ff3f141f7b",
   "metadata": {},
   "outputs": [
    {
     "name": "stdout",
     "output_type": "stream",
     "text": [
      "neighbors of: japan\n",
      "\tjapanese\n",
      "\ttokyo\n",
      "\tamerica\n",
      "\teurope\n",
      "\tgermany\n",
      "\tchinese\n",
      "\tindia\n",
      "\thawaii\n",
      "\tusa\n",
      "\tkorea\n"
     ]
    }
   ],
   "source": [
    "nearest_neighbors('japan')"
   ]
  },
  {
   "cell_type": "code",
   "execution_count": 22,
   "id": "53cd223e-73e8-4cdf-83d9-9b55c43440e6",
   "metadata": {},
   "outputs": [
    {
     "name": "stdout",
     "output_type": "stream",
     "text": [
      "neighbors of: nephew\n",
      "\tson\n",
      "\tuncle\n",
      "\tbrother\n",
      "\tgrandson\n",
      "\tcousin\n",
      "\tfather\n",
      "\tniece\n",
      "\tyounger_brother\n",
      "\tnephews\n",
      "\tstepson\n"
     ]
    }
   ],
   "source": [
    "nearest_neighbors('nephew')"
   ]
  },
  {
   "cell_type": "code",
   "execution_count": 23,
   "id": "cc2e4d6f-89df-46d0-b892-184bbddc36d6",
   "metadata": {},
   "outputs": [
    {
     "name": "stdout",
     "output_type": "stream",
     "text": [
      "neighbors of: einstein\n",
      "\tnikki\n",
      "\tlmfao\n",
      "\talbert\n",
      "\tarmstrong\n",
      "\tjoan\n",
      "\tbecky\n",
      "\tmcmahon\n",
      "\tconrad\n",
      "\tlori\n",
      "\thaley\n"
     ]
    }
   ],
   "source": [
    "nearest_neighbors('einstein')"
   ]
  },
  {
   "cell_type": "code",
   "execution_count": 24,
   "id": "c32ae1af-1042-49b8-bc56-4f7f672f73eb",
   "metadata": {},
   "outputs": [],
   "source": [
    "# glove from https://nlp.stanford.edu/projects/glove/"
   ]
  },
  {
   "cell_type": "code",
   "execution_count": null,
   "id": "bfd5582d-07d8-4188-bab9-adc2e8585c90",
   "metadata": {},
   "outputs": [],
   "source": []
  }
 ],
 "metadata": {
  "kernelspec": {
   "display_name": "Python 3 (ipykernel)",
   "language": "python",
   "name": "python3"
  },
  "language_info": {
   "codemirror_mode": {
    "name": "ipython",
    "version": 3
   },
   "file_extension": ".py",
   "mimetype": "text/x-python",
   "name": "python",
   "nbconvert_exporter": "python",
   "pygments_lexer": "ipython3",
   "version": "3.10.8"
  }
 },
 "nbformat": 4,
 "nbformat_minor": 5
}
