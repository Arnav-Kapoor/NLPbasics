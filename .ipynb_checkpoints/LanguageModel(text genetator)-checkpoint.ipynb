{
 "cells": [
  {
   "cell_type": "code",
   "execution_count": 1,
   "id": "fd61d0f0-f651-4858-bb0d-c4ca3153975d",
   "metadata": {},
   "outputs": [],
   "source": [
    "import numpy as np\n",
    "import string\n",
    "\n",
    "np.random.seed(1234)"
   ]
  },
  {
   "cell_type": "code",
   "execution_count": 2,
   "id": "598294f1-e2e3-4cb1-8305-600ecc5ceceb",
   "metadata": {},
   "outputs": [],
   "source": [
    "initial={} #start of phrase\n",
    "first_order={}# second word only\n",
    "second_order={}"
   ]
  },
  {
   "cell_type": "code",
   "execution_count": 3,
   "id": "16c21bbf-893e-407d-b69c-da089d884a86",
   "metadata": {},
   "outputs": [],
   "source": [
    "def remove_punctuation(s):\n",
    "    return s.translate(str.maketrans('','',string.punctuation))"
   ]
  },
  {
   "cell_type": "code",
   "execution_count": 4,
   "id": "500840cb-664d-4cd1-b44b-a814d655d413",
   "metadata": {},
   "outputs": [],
   "source": [
    "def add2dict(d,k,v):\n",
    "    if k not in d:\n",
    "        d[k]=[]\n",
    "    d[k].append(v)"
   ]
  },
  {
   "cell_type": "code",
   "execution_count": 7,
   "id": "5557a416-3585-4530-9c3d-8593ec23293a",
   "metadata": {},
   "outputs": [],
   "source": [
    "for line in open('datasets/robert_frost.txt'):\n",
    "    tokens=remove_punctuation(line.rstrip().lower()).split()\n",
    "    \n",
    "    \n",
    "    T=len(tokens)\n",
    "    for i in range(T):\n",
    "        t=tokens[i]\n",
    "        if i==0:\n",
    "            #measure the distribution of the forst word\n",
    "            initial[t]=initial.get(t,0.)+1\n",
    "        else:\n",
    "            t_1=tokens[i-1]\n",
    "            if i==T-1:\n",
    "                #measure probability of ending the line\n",
    "                add2dict(second_order,(t_1,t),'END')\n",
    "            if i==1:\n",
    "                #measure distribution of second word\n",
    "                # given only first word\n",
    "                add2dict(first_order, t_1,t)\n",
    "            else:\n",
    "                t_2=tokens[i-2]\n",
    "                add2dict(second_order,(t_2,t_1),t)"
   ]
  },
  {
   "cell_type": "code",
   "execution_count": 8,
   "id": "9fb783f3-e766-4069-97f4-a01fbcbdf9c4",
   "metadata": {},
   "outputs": [],
   "source": [
    "#normalize the distributions\n",
    "initial_total=sum(initial.values())\n",
    "for t,c in initial.items():\n",
    "    initial[t]=c/initial_total"
   ]
  },
  {
   "cell_type": "code",
   "execution_count": 9,
   "id": "d4874cb3-eb73-46a5-afb1-cb8db6117d5d",
   "metadata": {},
   "outputs": [],
   "source": [
    "#get a dict of counts and normalize which gives the probabilty\n",
    "\n",
    "def list2pdict(ts):\n",
    "    #turn each list of possibilities into a dictionary of prob\n",
    "    d={}\n",
    "    n=len(ts)\n",
    "    for t in ts:\n",
    "        d[t]=d.get(t,0.)+1\n",
    "    for t,c in d.items():\n",
    "        d[t]=c/n\n",
    "        \n",
    "    return d"
   ]
  },
  {
   "cell_type": "code",
   "execution_count": 10,
   "id": "1baad2ad-5726-490d-9fa9-049201fadfad",
   "metadata": {},
   "outputs": [],
   "source": [
    "for t_1,ts in first_order.items():\n",
    "    #replace list with dictionary of probabilites\n",
    "    first_order[t_1]=list2pdict(ts)"
   ]
  },
  {
   "cell_type": "code",
   "execution_count": 11,
   "id": "e3d219ae-b279-4c01-a5fd-74233d4be38d",
   "metadata": {},
   "outputs": [],
   "source": [
    "for k,ts in second_order.items():\n",
    "    second_order[k]=list2pdict(ts)"
   ]
  },
  {
   "cell_type": "code",
   "execution_count": null,
   "id": "d26add24-52d3-4314-9ee0-35332d525551",
   "metadata": {},
   "outputs": [],
   "source": []
  }
 ],
 "metadata": {
  "kernelspec": {
   "display_name": "Python 3 (ipykernel)",
   "language": "python",
   "name": "python3"
  },
  "language_info": {
   "codemirror_mode": {
    "name": "ipython",
    "version": 3
   },
   "file_extension": ".py",
   "mimetype": "text/x-python",
   "name": "python",
   "nbconvert_exporter": "python",
   "pygments_lexer": "ipython3",
   "version": "3.10.8"
  }
 },
 "nbformat": 4,
 "nbformat_minor": 5
}
