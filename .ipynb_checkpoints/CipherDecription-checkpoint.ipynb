{
 "cells": [
  {
   "cell_type": "code",
   "execution_count": 1,
   "id": "e1cfdce6-12e4-4b91-a6d2-d35383daa2cf",
   "metadata": {},
   "outputs": [],
   "source": [
    "import numpy as np\n",
    "import matplotlib.pyplot as plt\n",
    "import string\n",
    "import re\n",
    "import random\n",
    "import requests\n",
    "import os\n",
    "import textwrap"
   ]
  },
  {
   "cell_type": "code",
   "execution_count": 3,
   "id": "3e318c26-3010-43ea-8bd7-47d3045fb08e",
   "metadata": {},
   "outputs": [],
   "source": [
    "## create a substition cipher\n",
    "\n",
    "letters1=list(string.ascii_lowercase)\n",
    "letters2=list(string.ascii_lowercase)\n",
    "\n",
    "true_mapping={}\n",
    "random.shuffle(letters2)\n",
    "\n",
    "for k,v in zip(letters1,letters2):\n",
    "    true_mapping[k]=v"
   ]
  },
  {
   "cell_type": "code",
   "execution_count": 4,
   "id": "0975df55-2bca-4c9e-9a05-5c35e6e1e7ae",
   "metadata": {},
   "outputs": [],
   "source": [
    "##initiate markov matrix\n",
    "M=np.ones((26,26))\n",
    "\n",
    "#initiate state distribution\n",
    "pi=np.zeros(26)\n",
    "\n",
    "#update markov matrix\n",
    "def update_transition(ch1,ch2):\n",
    "    i=ord(ch1)-97\n",
    "    j=ord(ch2)-97\n",
    "    M[i,j]+=1\n",
    "    \n",
    "#update initial state variable\n",
    "def update_pi(ch1):\n",
    "    i=ord(ch1)-97\n",
    "    pi[i]+=1\n",
    "    \n",
    "#get log-probability\n",
    "def get_word_prob(word):\n",
    "    i=ord(word[0])-97\n",
    "    logp=np.log(pi[i])\n",
    "    \n",
    "    for ch in word[1:]:\n",
    "        j=ord(ch)-97\n",
    "        logp+=np.log(M[i,j])\n",
    "        i=j\n",
    "        \n",
    "    return logp\n",
    "\n",
    "#get probability of a sequence of words\n",
    "\n",
    "def get_sequence_prob(words):\n",
    "    if type(words)==str:\n",
    "        words=words.split()\n",
    "    \n",
    "    logp=0\n",
    "    for word in words:\n",
    "        logp+=get_word_prob(word)\n",
    "    \n",
    "    return logp"
   ]
  },
  {
   "cell_type": "code",
   "execution_count": null,
   "id": "f9069c3e-9bd4-4ec9-a1df-699ca7a74285",
   "metadata": {},
   "outputs": [],
   "source": []
  }
 ],
 "metadata": {
  "kernelspec": {
   "display_name": "Python 3 (ipykernel)",
   "language": "python",
   "name": "python3"
  },
  "language_info": {
   "codemirror_mode": {
    "name": "ipython",
    "version": 3
   },
   "file_extension": ".py",
   "mimetype": "text/x-python",
   "name": "python",
   "nbconvert_exporter": "python",
   "pygments_lexer": "ipython3",
   "version": "3.10.8"
  }
 },
 "nbformat": 4,
 "nbformat_minor": 5
}
